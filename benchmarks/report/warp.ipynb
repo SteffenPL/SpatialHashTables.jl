{
 "cells": [
  {
   "cell_type": "code",
   "execution_count": 1,
   "metadata": {},
   "outputs": [],
   "source": [
    "import warp as wp \n",
    "import numpy as np"
   ]
  },
  {
   "cell_type": "code",
   "execution_count": 2,
   "metadata": {},
   "outputs": [
    {
     "name": "stdout",
     "output_type": "stream",
     "text": [
      "Warp 1.0.2 initialized:\n",
      "   CUDA Toolkit 11.5, Driver 12.1\n",
      "   Devices:\n",
      "     \"cpu\"      : \"x86_64\"\n",
      "     \"cuda:0\"   : \"NVIDIA RTX A4000\" (16 GiB, sm_86, mempool enabled)\n",
      "   Kernel cache:\n",
      "     /home/plunder/.cache/warp/1.0.2\n"
     ]
    }
   ],
   "source": [
    "wp.init()"
   ]
  },
  {
   "cell_type": "code",
   "execution_count": 3,
   "metadata": {},
   "outputs": [],
   "source": [
    "@wp.kernel\n",
    "def force(points: wp.array(dtype=wp.vec3), \n",
    "          forces: wp.array(dtype=wp.vec3), \n",
    "          grid: wp.uint64, \n",
    "          radius: float):\n",
    "    \n",
    "    tid = wp.tid()\n",
    "\n",
    "    p = points[tid]\n",
    "\n",
    "    query = wp.hash_grid_query(grid, p, radius)\n",
    "    index = int(0)\n",
    "\n",
    "    f = wp.vec3()\n",
    "\n",
    "    while(wp.hash_grid_query_next(query, index)):\n",
    "\n",
    "        neighbour = points[index]\n",
    "        n = p - neighbour\n",
    "\n",
    "        dist = wp.length(n)\n",
    "        if( 0 < dist and dist <= radius ):\n",
    "            f += n / dist \n",
    "\n",
    "    forces[tid] = f "
   ]
  },
  {
   "cell_type": "code",
   "execution_count": 20,
   "metadata": {},
   "outputs": [],
   "source": [
    "data = np.load(\"../example_atomic.npz\")\n",
    "forces_ref = data[\"forces\"]\n",
    "num_points = forces_ref.shape[0]"
   ]
  },
  {
   "cell_type": "code",
   "execution_count": 12,
   "metadata": {},
   "outputs": [],
   "source": [
    "points = wp.array(data[\"points\"], dtype=wp.vec3)\n",
    "forces = wp.zeros(num_points, dtype=wp.vec3)\n",
    "\n",
    "radius = data[\"radius\"]\n",
    "gridsize = data[\"gridsize\"]\n",
    "\n",
    "grid = wp.HashGrid(gridsize[0], gridsize[1], gridsize[2], device=\"cuda\")\n",
    "grid.build(points=points, radius=radius)"
   ]
  },
  {
   "cell_type": "code",
   "execution_count": 17,
   "metadata": {},
   "outputs": [
    {
     "data": {
      "text/plain": [
       "array([17, 17, 17], dtype=int32)"
      ]
     },
     "execution_count": 17,
     "metadata": {},
     "output_type": "execute_result"
    }
   ],
   "source": [
    "gridsize"
   ]
  },
  {
   "cell_type": "code",
   "execution_count": 13,
   "metadata": {},
   "outputs": [
    {
     "data": {
      "text/plain": [
       "array([[ 15.806302  ,  75.2418    , 150.55765   ],\n",
       "       [135.35553   , 197.11548   ,  41.53925   ],\n",
       "       [165.93033   , 168.15778   , 144.40399   ],\n",
       "       ...,\n",
       "       [ 69.86019   , 101.18514   , 144.26186   ],\n",
       "       [136.34462   ,  26.644041  ,   0.76220226],\n",
       "       [ 92.3297    ,   3.454836  ,  20.581656  ]], dtype=float32)"
      ]
     },
     "execution_count": 13,
     "metadata": {},
     "output_type": "execute_result"
    }
   ],
   "source": [
    "data[\"points\"]"
   ]
  },
  {
   "cell_type": "code",
   "execution_count": 14,
   "metadata": {},
   "outputs": [],
   "source": [
    "def compute(points, forces, grid, radius):\n",
    "    wp.launch(kernel=force, dim = len(points), inputs = [points, forces, grid.id, radius])\n",
    "    wp.synchronize_device(\"cuda\")"
   ]
  },
  {
   "cell_type": "code",
   "execution_count": 16,
   "metadata": {},
   "outputs": [
    {
     "name": "stdout",
     "output_type": "stream",
     "text": [
      "CPU times: user 2.09 s, sys: 0 ns, total: 2.09 s\n",
      "Wall time: 2.09 s\n"
     ]
    }
   ],
   "source": [
    "%time compute(points, forces, grid, radius)"
   ]
  },
  {
   "cell_type": "code",
   "execution_count": 21,
   "metadata": {},
   "outputs": [],
   "source": [
    "forces_cpu = forces.numpy()"
   ]
  },
  {
   "cell_type": "code",
   "execution_count": 29,
   "metadata": {},
   "outputs": [
    {
     "data": {
      "text/plain": [
       "0.0001573758"
      ]
     },
     "execution_count": 29,
     "metadata": {},
     "output_type": "execute_result"
    }
   ],
   "source": [
    "np.linalg.norm(forces_cpu - forces_ref) / np.linalg.norm(forces_ref)"
   ]
  },
  {
   "cell_type": "code",
   "execution_count": 23,
   "metadata": {},
   "outputs": [
    {
     "data": {
      "text/plain": [
       "array([[   4.7778563,   10.151554 ,    3.032158 ],\n",
       "       [ -23.255793 ,   -5.20872  ,    1.5006969],\n",
       "       [  -8.961151 ,  -19.831896 ,   12.292814 ],\n",
       "       ...,\n",
       "       [   2.7903137,    6.4610176,   10.859381 ],\n",
       "       [  -9.591168 ,  -20.324755 , -153.9948   ],\n",
       "       [ -13.220029 , -143.52696  ,   12.89382  ]], dtype=float32)"
      ]
     },
     "execution_count": 23,
     "metadata": {},
     "output_type": "execute_result"
    }
   ],
   "source": [
    "forces_cpu"
   ]
  },
  {
   "cell_type": "code",
   "execution_count": 24,
   "metadata": {},
   "outputs": [
    {
     "data": {
      "text/plain": [
       "array([[   4.777826 ,   10.151538 ,    3.0321615],\n",
       "       [ -23.255802 ,   -5.208677 ,    1.5006713],\n",
       "       [  -8.961161 ,  -19.831894 ,   12.292823 ],\n",
       "       ...,\n",
       "       [   2.7902865,    6.4609957,   10.859321 ],\n",
       "       [  -9.5911875,  -20.324778 , -153.99481  ],\n",
       "       [ -13.220052 , -143.52702  ,   12.893774 ]], dtype=float32)"
      ]
     },
     "execution_count": 24,
     "metadata": {},
     "output_type": "execute_result"
    }
   ],
   "source": [
    "forces_ref"
   ]
  },
  {
   "cell_type": "code",
   "execution_count": null,
   "metadata": {},
   "outputs": [],
   "source": []
  }
 ],
 "metadata": {
  "kernelspec": {
   "display_name": "warp",
   "language": "python",
   "name": "python3"
  },
  "language_info": {
   "codemirror_mode": {
    "name": "ipython",
    "version": 3
   },
   "file_extension": ".py",
   "mimetype": "text/x-python",
   "name": "python",
   "nbconvert_exporter": "python",
   "pygments_lexer": "ipython3",
   "version": "3.12.3"
  }
 },
 "nbformat": 4,
 "nbformat_minor": 2
}
